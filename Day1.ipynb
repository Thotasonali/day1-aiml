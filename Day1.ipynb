{
  "nbformat": 4,
  "nbformat_minor": 0,
  "metadata": {
    "colab": {
      "provenance": [],
      "authorship_tag": "ABX9TyPveQs2qqaXiTExvL2Cr2py",
      "include_colab_link": true
    },
    "kernelspec": {
      "name": "python3",
      "display_name": "Python 3"
    },
    "language_info": {
      "name": "python"
    }
  },
  "cells": [
    {
      "cell_type": "markdown",
      "metadata": {
        "id": "view-in-github",
        "colab_type": "text"
      },
      "source": [
        "<a href=\"https://colab.research.google.com/github/Thotasonali/day1-aiml/blob/main/Day1.ipynb\" target=\"_parent\"><img src=\"https://colab.research.google.com/assets/colab-badge.svg\" alt=\"Open In Colab\"/></a>"
      ]
    },
    {
      "cell_type": "markdown",
      "source": [
        "**Agenda**\n",
        "1.variable\n",
        "2.datatypes\n",
        "3.operaters\n",
        "4.decision making statements\n",
        "5.iterative statements\n",
        "6.functions\n",
        "7.file handling\n",
        "8.modules\n",
        "9.error handling\n"
      ],
      "metadata": {
        "id": "RyGj4DaM4wKK"
      }
    },
    {
      "cell_type": "code",
      "source": [
        "\"hio bootcamp\""
      ],
      "metadata": {
        "colab": {
          "base_uri": "https://localhost:8080/",
          "height": 35
        },
        "id": "MDUh9vVj4-FD",
        "outputId": "18b0b0de-f5b7-47f4-f66f-6b31498a77f7"
      },
      "execution_count": 5,
      "outputs": [
        {
          "output_type": "execute_result",
          "data": {
            "text/plain": [
              "'hio bootcamp'"
            ],
            "application/vnd.google.colaboratory.intrinsic+json": {
              "type": "string"
            }
          },
          "metadata": {},
          "execution_count": 5
        }
      ]
    },
    {
      "cell_type": "code",
      "source": [
        "20\n"
      ],
      "metadata": {
        "colab": {
          "base_uri": "https://localhost:8080/"
        },
        "id": "R5rozcbn5iZA",
        "outputId": "71fbb8e2-de41-4276-c395-d8eeba4aa109"
      },
      "execution_count": 2,
      "outputs": [
        {
          "output_type": "execute_result",
          "data": {
            "text/plain": [
              "20"
            ]
          },
          "metadata": {},
          "execution_count": 2
        }
      ]
    },
    {
      "cell_type": "code",
      "source": [
        "20*3"
      ],
      "metadata": {
        "colab": {
          "base_uri": "https://localhost:8080/"
        },
        "id": "fa9e04Bp5ilj",
        "outputId": "6e3c5614-087c-4ead-d8d7-f4c102ede40f"
      },
      "execution_count": 3,
      "outputs": [
        {
          "output_type": "execute_result",
          "data": {
            "text/plain": [
              "60"
            ]
          },
          "metadata": {},
          "execution_count": 3
        }
      ]
    },
    {
      "cell_type": "code",
      "source": [
        "20-3"
      ],
      "metadata": {
        "colab": {
          "base_uri": "https://localhost:8080/"
        },
        "id": "uAuwBvrT5ire",
        "outputId": "f50153c8-2361-48cc-ef17-e449a521eca5"
      },
      "execution_count": 4,
      "outputs": [
        {
          "output_type": "execute_result",
          "data": {
            "text/plain": [
              "17"
            ]
          },
          "metadata": {},
          "execution_count": 4
        }
      ]
    },
    {
      "cell_type": "markdown",
      "source": [
        "**PYTHON IS A INTERACTIVE** **LANGUAGE**"
      ],
      "metadata": {
        "id": "BDWbC-ct528g"
      }
    },
    {
      "cell_type": "markdown",
      "source": [
        "#VARIABLES\n",
        "variable is n identifier which points to the memeory location and u can access loctaion by variable"
      ],
      "metadata": {
        "id": "hgp1kIrS6EAD"
      }
    },
    {
      "cell_type": "code",
      "source": [
        "#create a variable\n",
        "a=10\n",
        "type(a)\n"
      ],
      "metadata": {
        "colab": {
          "base_uri": "https://localhost:8080/"
        },
        "id": "mPMkEPeV5iu5",
        "outputId": "b5ca59ba-1100-4819-a7c1-7ffc4a54e1dd"
      },
      "execution_count": 10,
      "outputs": [
        {
          "output_type": "execute_result",
          "data": {
            "text/plain": [
              "str"
            ]
          },
          "metadata": {},
          "execution_count": 10
        }
      ]
    },
    {
      "cell_type": "code",
      "source": [
        "a=1.0\n",
        "type(a)"
      ],
      "metadata": {
        "colab": {
          "base_uri": "https://localhost:8080/"
        },
        "id": "snL3AN135iyk",
        "outputId": "90cbcb23-f9f8-4268-f2f9-afdb092720be"
      },
      "execution_count": 7,
      "outputs": [
        {
          "output_type": "execute_result",
          "data": {
            "text/plain": [
              "float"
            ]
          },
          "metadata": {},
          "execution_count": 7
        }
      ]
    },
    {
      "cell_type": "code",
      "source": [
        "a='sona'\n",
        "type(a)"
      ],
      "metadata": {
        "colab": {
          "base_uri": "https://localhost:8080/"
        },
        "id": "dUGQRPtl5i1c",
        "outputId": "018af66b-049a-4cfa-8117-c5e3b7ef2081"
      },
      "execution_count": 9,
      "outputs": [
        {
          "output_type": "execute_result",
          "data": {
            "text/plain": [
              "str"
            ]
          },
          "metadata": {},
          "execution_count": 9
        }
      ]
    },
    {
      "cell_type": "markdown",
      "source": [
        "*OBSERVATION*\n",
        "\n",
        "> Indented block\n",
        "#for creating variables no need to mention dta types\n",
        "#the datatype of the variable always based on value assignment\n",
        "\n"
      ],
      "metadata": {
        "id": "fMbM2ALD61q-"
      }
    },
    {
      "cell_type": "code",
      "source": [
        "a=10+2j\n",
        "type(a)"
      ],
      "metadata": {
        "colab": {
          "base_uri": "https://localhost:8080/"
        },
        "id": "yCDQUMXa5i30",
        "outputId": "0e38b6dc-eb28-4f25-e0af-faf307efe89b"
      },
      "execution_count": 13,
      "outputs": [
        {
          "output_type": "execute_result",
          "data": {
            "text/plain": [
              "complex"
            ]
          },
          "metadata": {},
          "execution_count": 13
        }
      ]
    },
    {
      "cell_type": "code",
      "source": [
        "a=True\n",
        "type(a)"
      ],
      "metadata": {
        "colab": {
          "base_uri": "https://localhost:8080/"
        },
        "id": "db0YJcAU79Pr",
        "outputId": "92c6b168-97b7-497f-9738-502a08344f1d"
      },
      "execution_count": 15,
      "outputs": [
        {
          "output_type": "execute_result",
          "data": {
            "text/plain": [
              "bool"
            ]
          },
          "metadata": {},
          "execution_count": 15
        }
      ]
    },
    {
      "cell_type": "code",
      "source": [
        "c=123"
      ],
      "metadata": {
        "id": "G7bWaHEt8Fu7"
      },
      "execution_count": 16,
      "outputs": []
    },
    {
      "cell_type": "code",
      "source": [
        "del(c)\n"
      ],
      "metadata": {
        "id": "iOcDlwIj8Imj"
      },
      "execution_count": 17,
      "outputs": []
    },
    {
      "cell_type": "markdown",
      "source": [
        "assigning values to multiple variables"
      ],
      "metadata": {
        "id": "GJY18twS4vFO"
      }
    },
    {
      "cell_type": "code",
      "source": [],
      "metadata": {
        "id": "okt8ezJQ8Hrn"
      },
      "execution_count": null,
      "outputs": []
    },
    {
      "cell_type": "code",
      "source": [
        "#assigning multipe values to multiple variables\n",
        "a,b,c=10,'sona',10+2j\n",
        "a\n",
        "\n"
      ],
      "metadata": {
        "colab": {
          "base_uri": "https://localhost:8080/"
        },
        "id": "TUiSg1Jn8DC0",
        "outputId": "a5ee9d38-56f7-4886-c398-3fcfa44909d9"
      },
      "execution_count": 20,
      "outputs": [
        {
          "output_type": "execute_result",
          "data": {
            "text/plain": [
              "10"
            ]
          },
          "metadata": {},
          "execution_count": 20
        }
      ]
    },
    {
      "cell_type": "code",
      "source": [
        "type(a)"
      ],
      "metadata": {
        "colab": {
          "base_uri": "https://localhost:8080/"
        },
        "id": "947J0-wl8n4S",
        "outputId": "190c39ce-befc-48ff-c686-ae9883b90623"
      },
      "execution_count": 21,
      "outputs": [
        {
          "output_type": "execute_result",
          "data": {
            "text/plain": [
              "int"
            ]
          },
          "metadata": {},
          "execution_count": 21
        }
      ]
    },
    {
      "cell_type": "code",
      "source": [
        "type(b)"
      ],
      "metadata": {
        "colab": {
          "base_uri": "https://localhost:8080/"
        },
        "id": "W6WFiZga8wjy",
        "outputId": "c47b62ae-92ae-4992-be76-e82f44c0e0b7"
      },
      "execution_count": 22,
      "outputs": [
        {
          "output_type": "execute_result",
          "data": {
            "text/plain": [
              "str"
            ]
          },
          "metadata": {},
          "execution_count": 22
        }
      ]
    },
    {
      "cell_type": "code",
      "source": [
        "type(c)"
      ],
      "metadata": {
        "colab": {
          "base_uri": "https://localhost:8080/"
        },
        "id": "MAYK-1vf80_S",
        "outputId": "42f8bcda-3284-4b9c-b9c9-b06bd7db3428"
      },
      "execution_count": 23,
      "outputs": [
        {
          "output_type": "execute_result",
          "data": {
            "text/plain": [
              "complex"
            ]
          },
          "metadata": {},
          "execution_count": 23
        }
      ]
    },
    {
      "cell_type": "code",
      "source": [
        "#print statemnets"
      ],
      "metadata": {
        "id": "bS3UMC5g82fC"
      },
      "execution_count": 24,
      "outputs": []
    },
    {
      "cell_type": "code",
      "source": [
        "a=10\n",
        "print(a)"
      ],
      "metadata": {
        "colab": {
          "base_uri": "https://localhost:8080/"
        },
        "id": "EXafTOQ28-wC",
        "outputId": "9db09278-f754-4c8e-eb9c-281e7f2347dc"
      },
      "execution_count": 25,
      "outputs": [
        {
          "output_type": "stream",
          "name": "stdout",
          "text": [
            "10\n"
          ]
        }
      ]
    },
    {
      "cell_type": "code",
      "source": [
        "\"welcome to make skilled\""
      ],
      "metadata": {
        "colab": {
          "base_uri": "https://localhost:8080/",
          "height": 35
        },
        "id": "FgCBtBCJ9FJS",
        "outputId": "25074c91-d607-4a7a-81b8-95f2a67a656a"
      },
      "execution_count": 26,
      "outputs": [
        {
          "output_type": "execute_result",
          "data": {
            "text/plain": [
              "'welcome to make skilled'"
            ],
            "application/vnd.google.colaboratory.intrinsic+json": {
              "type": "string"
            }
          },
          "metadata": {},
          "execution_count": 26
        }
      ]
    },
    {
      "cell_type": "code",
      "source": [
        "a=10\n",
        "a\n",
        "b=20\n",
        "b\n",
        "# python is interactive language"
      ],
      "metadata": {
        "colab": {
          "base_uri": "https://localhost:8080/"
        },
        "id": "jKtgXqvp9MIi",
        "outputId": "2f2c40d4-f28b-46ac-f0ae-aac1c45847af"
      },
      "execution_count": 28,
      "outputs": [
        {
          "output_type": "execute_result",
          "data": {
            "text/plain": [
              "20"
            ]
          },
          "metadata": {},
          "execution_count": 28
        }
      ]
    },
    {
      "cell_type": "code",
      "source": [
        "a=10\n",
        "print(a)\n",
        "b=20\n",
        "print(b)"
      ],
      "metadata": {
        "colab": {
          "base_uri": "https://localhost:8080/"
        },
        "id": "qUubctcD9ZLF",
        "outputId": "23f19546-4d9c-4125-d400-afc1818ee786"
      },
      "execution_count": 29,
      "outputs": [
        {
          "output_type": "stream",
          "name": "stdout",
          "text": [
            "10\n",
            "20\n"
          ]
        }
      ]
    },
    {
      "cell_type": "code",
      "source": [
        "print(\"sona\")"
      ],
      "metadata": {
        "colab": {
          "base_uri": "https://localhost:8080/"
        },
        "id": "Tx8JldBR9v6C",
        "outputId": "3feb7749-0e17-4964-8885-6540dbb6c90c"
      },
      "execution_count": 30,
      "outputs": [
        {
          "output_type": "stream",
          "name": "stdout",
          "text": [
            "sona\n"
          ]
        }
      ]
    },
    {
      "cell_type": "code",
      "source": [
        "print('sona','soni')"
      ],
      "metadata": {
        "colab": {
          "base_uri": "https://localhost:8080/"
        },
        "id": "faJK1DOV90Ty",
        "outputId": "ce08a2a0-7fcf-410d-bf78-2968eee7fa32"
      },
      "execution_count": 31,
      "outputs": [
        {
          "output_type": "stream",
          "name": "stdout",
          "text": [
            "sona soni\n"
          ]
        }
      ]
    },
    {
      "cell_type": "code",
      "source": [
        "print('hello')\n",
        "print('makeskill')"
      ],
      "metadata": {
        "colab": {
          "base_uri": "https://localhost:8080/"
        },
        "id": "xVQVTJms929a",
        "outputId": "7adc66d9-1287-4ec6-e1ec-ae41bee5f2f1"
      },
      "execution_count": 32,
      "outputs": [
        {
          "output_type": "stream",
          "name": "stdout",
          "text": [
            "hello\n",
            "makeskill\n"
          ]
        }
      ]
    },
    {
      "cell_type": "code",
      "source": [
        "print('hello',end=' ')\n",
        "print('sona')"
      ],
      "metadata": {
        "colab": {
          "base_uri": "https://localhost:8080/"
        },
        "id": "B8icWCpT-GpP",
        "outputId": "97fd18e7-f4eb-43a2-983d-9d598caf04f7"
      },
      "execution_count": 34,
      "outputs": [
        {
          "output_type": "stream",
          "name": "stdout",
          "text": [
            "hello sona\n"
          ]
        }
      ]
    },
    {
      "cell_type": "code",
      "source": [
        "print('hello',end='**')\n",
        "print('sona')"
      ],
      "metadata": {
        "colab": {
          "base_uri": "https://localhost:8080/"
        },
        "id": "uc1atw01-WrS",
        "outputId": "0440e591-af8a-4563-bfb6-dee6b127948d"
      },
      "execution_count": 36,
      "outputs": [
        {
          "output_type": "stream",
          "name": "stdout",
          "text": [
            "hello**sona\n"
          ]
        }
      ]
    },
    {
      "cell_type": "code",
      "source": [
        "a=0x21\n",
        "type(a)\n",
        "print(a)"
      ],
      "metadata": {
        "colab": {
          "base_uri": "https://localhost:8080/"
        },
        "id": "zIhCsO3d-dIy",
        "outputId": "eab89b2b-4bdc-4286-d81f-0f26b189c013"
      },
      "execution_count": 37,
      "outputs": [
        {
          "output_type": "stream",
          "name": "stdout",
          "text": [
            "33\n"
          ]
        }
      ]
    },
    {
      "cell_type": "code",
      "source": [
        "hex(33)"
      ],
      "metadata": {
        "colab": {
          "base_uri": "https://localhost:8080/",
          "height": 35
        },
        "id": "NTJWgTax-_Ti",
        "outputId": "14dff670-c489-46e8-b40d-354d747719fc"
      },
      "execution_count": 38,
      "outputs": [
        {
          "output_type": "execute_result",
          "data": {
            "text/plain": [
              "'0x21'"
            ],
            "application/vnd.google.colaboratory.intrinsic+json": {
              "type": "string"
            }
          },
          "metadata": {},
          "execution_count": 38
        }
      ]
    },
    {
      "cell_type": "code",
      "source": [
        "hex('a')\n",
        "#string can't interpreted"
      ],
      "metadata": {
        "colab": {
          "base_uri": "https://localhost:8080/",
          "height": 193
        },
        "id": "bbcSEyfP_GeR",
        "outputId": "314ed7b8-670f-444b-9834-a6242fc5b9bd"
      },
      "execution_count": 42,
      "outputs": [
        {
          "output_type": "error",
          "ename": "TypeError",
          "evalue": "ignored",
          "traceback": [
            "\u001b[0;31m---------------------------------------------------------------------------\u001b[0m",
            "\u001b[0;31mTypeError\u001b[0m                                 Traceback (most recent call last)",
            "\u001b[0;32m<ipython-input-42-d024ab3a9038>\u001b[0m in \u001b[0;36m<cell line: 1>\u001b[0;34m()\u001b[0m\n\u001b[0;32m----> 1\u001b[0;31m \u001b[0mhex\u001b[0m\u001b[0;34m(\u001b[0m\u001b[0;34m'a'\u001b[0m\u001b[0;34m)\u001b[0m\u001b[0;34m\u001b[0m\u001b[0;34m\u001b[0m\u001b[0m\n\u001b[0m\u001b[1;32m      2\u001b[0m \u001b[0;31m#string can't interpreted\u001b[0m\u001b[0;34m\u001b[0m\u001b[0;34m\u001b[0m\u001b[0m\n",
            "\u001b[0;31mTypeError\u001b[0m: 'str' object cannot be interpreted as an integer"
          ]
        }
      ]
    },
    {
      "cell_type": "code",
      "source": [
        "a=0b0110\n",
        "print(a)"
      ],
      "metadata": {
        "colab": {
          "base_uri": "https://localhost:8080/"
        },
        "id": "t74SJqoZ_MlC",
        "outputId": "a95a3f5d-54a5-4037-decb-318c8ea7d24d"
      },
      "execution_count": 43,
      "outputs": [
        {
          "output_type": "stream",
          "name": "stdout",
          "text": [
            "6\n"
          ]
        }
      ]
    },
    {
      "cell_type": "code",
      "source": [
        "bin(6)"
      ],
      "metadata": {
        "colab": {
          "base_uri": "https://localhost:8080/",
          "height": 35
        },
        "id": "iSq6vVPr_VRS",
        "outputId": "2c170111-2233-4c54-99a5-0a2b37e64133"
      },
      "execution_count": 44,
      "outputs": [
        {
          "output_type": "execute_result",
          "data": {
            "text/plain": [
              "'0b110'"
            ],
            "application/vnd.google.colaboratory.intrinsic+json": {
              "type": "string"
            }
          },
          "metadata": {},
          "execution_count": 44
        }
      ]
    },
    {
      "cell_type": "code",
      "source": [
        "a=0o10\n",
        "print(a)"
      ],
      "metadata": {
        "colab": {
          "base_uri": "https://localhost:8080/"
        },
        "id": "1f2wygJf_fny",
        "outputId": "78cc0fab-bdc1-429a-c453-b66684e410bf"
      },
      "execution_count": 45,
      "outputs": [
        {
          "output_type": "stream",
          "name": "stdout",
          "text": [
            "8\n"
          ]
        }
      ]
    },
    {
      "cell_type": "code",
      "source": [
        "oct(8)"
      ],
      "metadata": {
        "colab": {
          "base_uri": "https://localhost:8080/",
          "height": 35
        },
        "id": "a8UH4Qnb_o5S",
        "outputId": "e67e8cd6-9da5-4be4-8c6d-987fa9263cfd"
      },
      "execution_count": 46,
      "outputs": [
        {
          "output_type": "execute_result",
          "data": {
            "text/plain": [
              "'0o10'"
            ],
            "application/vnd.google.colaboratory.intrinsic+json": {
              "type": "string"
            }
          },
          "metadata": {},
          "execution_count": 46
        }
      ]
    },
    {
      "cell_type": "code",
      "source": [
        "a=3e7\n",
        "print(a,type(a))"
      ],
      "metadata": {
        "colab": {
          "base_uri": "https://localhost:8080/"
        },
        "id": "2t6kwbLc_rKh",
        "outputId": "f532b6ea-ee34-4eea-c3eb-b997f41e03da"
      },
      "execution_count": 47,
      "outputs": [
        {
          "output_type": "stream",
          "name": "stdout",
          "text": [
            "30000000.0 <class 'float'>\n"
          ]
        }
      ]
    },
    {
      "cell_type": "code",
      "source": [
        "a=3e-7\n",
        "print(a,type(a))"
      ],
      "metadata": {
        "colab": {
          "base_uri": "https://localhost:8080/"
        },
        "id": "yc98RcI4_9UR",
        "outputId": "1333e64c-f22c-43c9-df62-fe76eacf52c1"
      },
      "execution_count": 49,
      "outputs": [
        {
          "output_type": "stream",
          "name": "stdout",
          "text": [
            "3e-07 <class 'float'>\n"
          ]
        }
      ]
    },
    {
      "cell_type": "code",
      "source": [
        "a='hi'\n",
        "print(a*3)"
      ],
      "metadata": {
        "colab": {
          "base_uri": "https://localhost:8080/"
        },
        "id": "_0m1LfzdAHnB",
        "outputId": "94b906bb-860e-42be-ef47-5ae4bd30dda8"
      },
      "execution_count": 50,
      "outputs": [
        {
          "output_type": "stream",
          "name": "stdout",
          "text": [
            "hihihi\n"
          ]
        }
      ]
    },
    {
      "cell_type": "code",
      "source": [
        "a='hi'\n",
        "print(a+3)"
      ],
      "metadata": {
        "colab": {
          "base_uri": "https://localhost:8080/",
          "height": 193
        },
        "id": "Ne8BL4IDBhdx",
        "outputId": "256b2fa9-8b67-4fe8-a70a-769a29db2393"
      },
      "execution_count": 53,
      "outputs": [
        {
          "output_type": "error",
          "ename": "TypeError",
          "evalue": "ignored",
          "traceback": [
            "\u001b[0;31m---------------------------------------------------------------------------\u001b[0m",
            "\u001b[0;31mTypeError\u001b[0m                                 Traceback (most recent call last)",
            "\u001b[0;32m<ipython-input-53-c242a9881ece>\u001b[0m in \u001b[0;36m<cell line: 2>\u001b[0;34m()\u001b[0m\n\u001b[1;32m      1\u001b[0m \u001b[0ma\u001b[0m\u001b[0;34m=\u001b[0m\u001b[0;34m'hi'\u001b[0m\u001b[0;34m\u001b[0m\u001b[0;34m\u001b[0m\u001b[0m\n\u001b[0;32m----> 2\u001b[0;31m \u001b[0mprint\u001b[0m\u001b[0;34m(\u001b[0m\u001b[0ma\u001b[0m\u001b[0;34m+\u001b[0m\u001b[0;36m3\u001b[0m\u001b[0;34m)\u001b[0m\u001b[0;34m\u001b[0m\u001b[0;34m\u001b[0m\u001b[0m\n\u001b[0m",
            "\u001b[0;31mTypeError\u001b[0m: can only concatenate str (not \"int\") to str"
          ]
        }
      ]
    },
    {
      "cell_type": "code",
      "source": [
        "print(a+str(3))\n",
        "print(a+'3')"
      ],
      "metadata": {
        "colab": {
          "base_uri": "https://localhost:8080/"
        },
        "id": "De11xVBABmYB",
        "outputId": "c2824843-d48a-42a8-fed8-fbebca70b560"
      },
      "execution_count": 55,
      "outputs": [
        {
          "output_type": "stream",
          "name": "stdout",
          "text": [
            "hi3\n",
            "hi3\n"
          ]
        }
      ]
    },
    {
      "cell_type": "code",
      "source": [
        "a='makeskilled'\n",
        "print(a[0],a[-2])"
      ],
      "metadata": {
        "colab": {
          "base_uri": "https://localhost:8080/"
        },
        "id": "UmW_Cvf_BxxU",
        "outputId": "17fab9e6-44e4-46d5-9855-fa23505b6888"
      },
      "execution_count": 56,
      "outputs": [
        {
          "output_type": "stream",
          "name": "stdout",
          "text": [
            "m e\n"
          ]
        }
      ]
    },
    {
      "cell_type": "code",
      "source": [
        "a[-1]"
      ],
      "metadata": {
        "colab": {
          "base_uri": "https://localhost:8080/",
          "height": 35
        },
        "id": "0uAed4fzCHXx",
        "outputId": "70341402-0dd8-4b92-ccb8-76f4973db0d3"
      },
      "execution_count": 57,
      "outputs": [
        {
          "output_type": "execute_result",
          "data": {
            "text/plain": [
              "'d'"
            ],
            "application/vnd.google.colaboratory.intrinsic+json": {
              "type": "string"
            }
          },
          "metadata": {},
          "execution_count": 57
        }
      ]
    },
    {
      "cell_type": "code",
      "source": [
        "a='asdf'\n",
        "print(a[0],a[-4])"
      ],
      "metadata": {
        "colab": {
          "base_uri": "https://localhost:8080/"
        },
        "id": "13yZ-xc3Ccz5",
        "outputId": "b4fd5d99-7bef-4a1f-ad41-a1727f392fd2"
      },
      "execution_count": 59,
      "outputs": [
        {
          "output_type": "stream",
          "name": "stdout",
          "text": [
            "a a\n"
          ]
        }
      ]
    },
    {
      "cell_type": "markdown",
      "source": [
        "STRINGS AREV IMMUTABLE"
      ],
      "metadata": {
        "id": "TFLwkv_XDC6z"
      }
    },
    {
      "cell_type": "code",
      "source": [
        "a='hello'\n",
        "a[0]='m'\n",
        "print(a)"
      ],
      "metadata": {
        "colab": {
          "base_uri": "https://localhost:8080/",
          "height": 210
        },
        "id": "9OGS0Oy3CtdO",
        "outputId": "43ff1e43-e038-4585-9dd5-d914c5f7025d"
      },
      "execution_count": 60,
      "outputs": [
        {
          "output_type": "error",
          "ename": "TypeError",
          "evalue": "ignored",
          "traceback": [
            "\u001b[0;31m---------------------------------------------------------------------------\u001b[0m",
            "\u001b[0;31mTypeError\u001b[0m                                 Traceback (most recent call last)",
            "\u001b[0;32m<ipython-input-60-5acac26bba2d>\u001b[0m in \u001b[0;36m<cell line: 2>\u001b[0;34m()\u001b[0m\n\u001b[1;32m      1\u001b[0m \u001b[0ma\u001b[0m\u001b[0;34m=\u001b[0m\u001b[0;34m'hello'\u001b[0m\u001b[0;34m\u001b[0m\u001b[0;34m\u001b[0m\u001b[0m\n\u001b[0;32m----> 2\u001b[0;31m \u001b[0ma\u001b[0m\u001b[0;34m[\u001b[0m\u001b[0;36m0\u001b[0m\u001b[0;34m]\u001b[0m\u001b[0;34m=\u001b[0m\u001b[0;34m'm'\u001b[0m\u001b[0;34m\u001b[0m\u001b[0;34m\u001b[0m\u001b[0m\n\u001b[0m\u001b[1;32m      3\u001b[0m \u001b[0mprint\u001b[0m\u001b[0;34m(\u001b[0m\u001b[0ma\u001b[0m\u001b[0;34m)\u001b[0m\u001b[0;34m\u001b[0m\u001b[0;34m\u001b[0m\u001b[0m\n",
            "\u001b[0;31mTypeError\u001b[0m: 'str' object does not support item assignment"
          ]
        }
      ]
    },
    {
      "cell_type": "markdown",
      "source": [
        "STRING SLICING"
      ],
      "metadata": {
        "id": "D1vgT_DiDmvK"
      }
    },
    {
      "cell_type": "code",
      "source": [
        "a='hello'\n",
        "#a[ start : stop : step index ]\n",
        "#stop print avvadhu\n",
        "print(a[1:3])"
      ],
      "metadata": {
        "colab": {
          "base_uri": "https://localhost:8080/"
        },
        "id": "WVyAuF8mDI09",
        "outputId": "04ce3e15-adcb-4ae6-b81b-b71aae0d293f"
      },
      "execution_count": 61,
      "outputs": [
        {
          "output_type": "stream",
          "name": "stdout",
          "text": [
            "el\n"
          ]
        }
      ]
    },
    {
      "cell_type": "code",
      "source": [
        "a='hello'\n",
        "print(a[:-2])"
      ],
      "metadata": {
        "colab": {
          "base_uri": "https://localhost:8080/"
        },
        "id": "3ug-zRj4Duah",
        "outputId": "0743d5ae-1624-42ec-996a-1e756d9f1202"
      },
      "execution_count": 62,
      "outputs": [
        {
          "output_type": "stream",
          "name": "stdout",
          "text": [
            "hel\n"
          ]
        }
      ]
    },
    {
      "cell_type": "code",
      "source": [
        "print(a[-2:])"
      ],
      "metadata": {
        "colab": {
          "base_uri": "https://localhost:8080/"
        },
        "id": "idGXMUYjEAoR",
        "outputId": "0537b42e-73e3-447b-dec6-be1734da52de"
      },
      "execution_count": 63,
      "outputs": [
        {
          "output_type": "stream",
          "name": "stdout",
          "text": [
            "lo\n"
          ]
        }
      ]
    },
    {
      "cell_type": "code",
      "source": [
        "a='hello'\n",
        "print(a[:],a[:5],a[0:])"
      ],
      "metadata": {
        "colab": {
          "base_uri": "https://localhost:8080/"
        },
        "id": "y7joKLhkEW3h",
        "outputId": "aa1995fa-519c-4300-e72b-67b4939d7fba"
      },
      "execution_count": 64,
      "outputs": [
        {
          "output_type": "stream",
          "name": "stdout",
          "text": [
            "hello hello hello\n"
          ]
        }
      ]
    },
    {
      "cell_type": "markdown",
      "source": [
        "pALINDROME"
      ],
      "metadata": {
        "id": "LHfTnmu7FDI7"
      }
    },
    {
      "cell_type": "code",
      "source": [
        "a='hello'\n",
        "print(a[::-1])"
      ],
      "metadata": {
        "colab": {
          "base_uri": "https://localhost:8080/"
        },
        "id": "O50wpOUwEnKi",
        "outputId": "dde90cef-66b5-4b1f-b599-575e1223092b"
      },
      "execution_count": 65,
      "outputs": [
        {
          "output_type": "stream",
          "name": "stdout",
          "text": [
            "olleh\n"
          ]
        }
      ]
    },
    {
      "cell_type": "code",
      "source": [
        "A='WOW'\n",
        "print(a[::-1])     #case sensitive\n",
        "print(A[::-1])"
      ],
      "metadata": {
        "colab": {
          "base_uri": "https://localhost:8080/"
        },
        "id": "Q08TCSYWFFfh",
        "outputId": "fb3467cc-f45c-4123-f1d1-0f6e8d1e5845"
      },
      "execution_count": 67,
      "outputs": [
        {
          "output_type": "stream",
          "name": "stdout",
          "text": [
            "WOW\n"
          ]
        }
      ]
    },
    {
      "cell_type": "markdown",
      "source": [
        "LIST DATATYPE"
      ],
      "metadata": {
        "id": "dK9Bh_ihGYLz"
      }
    },
    {
      "cell_type": "code",
      "source": [
        "a=[1,10+2j,'hello']\n",
        "print(type(a))"
      ],
      "metadata": {
        "colab": {
          "base_uri": "https://localhost:8080/"
        },
        "id": "DkNPPXLYFP5h",
        "outputId": "666d659c-e39f-437e-c8a6-661263884dde"
      },
      "execution_count": 68,
      "outputs": [
        {
          "output_type": "stream",
          "name": "stdout",
          "text": [
            "<class 'list'>\n"
          ]
        }
      ]
    },
    {
      "cell_type": "code",
      "source": [
        "a=[1,2,3]\n",
        "print(type(a))\n",
        "print(a[1])\n",
        "print(a[::-1])\n"
      ],
      "metadata": {
        "colab": {
          "base_uri": "https://localhost:8080/"
        },
        "id": "zNK_9OnKGqlA",
        "outputId": "d2e975d7-4d8c-47fe-8002-8d51bbe9fa5a"
      },
      "execution_count": 73,
      "outputs": [
        {
          "output_type": "stream",
          "name": "stdout",
          "text": [
            "<class 'list'>\n",
            "2\n",
            "[3, 2, 1]\n"
          ]
        }
      ]
    },
    {
      "cell_type": "code",
      "source": [
        "a=[1,10+2j,'hello']\n",
        "print(a[0])\n",
        "print(a[:-1])\n",
        "print(a[::-1])\n",
        "\n",
        "\n",
        "print(a[::1])"
      ],
      "metadata": {
        "colab": {
          "base_uri": "https://localhost:8080/"
        },
        "id": "V9SHa-myGugA",
        "outputId": "74517622-7bad-446b-b704-1c9660995cbd"
      },
      "execution_count": 83,
      "outputs": [
        {
          "output_type": "stream",
          "name": "stdout",
          "text": [
            "1\n",
            "[1, (10+2j)]\n",
            "['hello', (10+2j), 1]\n",
            "[1, (10+2j), 'hello']\n"
          ]
        }
      ]
    },
    {
      "cell_type": "code",
      "source": [
        "print(a[:-1:-2])\n",
        "print(a[:-1:2])"
      ],
      "metadata": {
        "colab": {
          "base_uri": "https://localhost:8080/"
        },
        "id": "W1ADtvmLHDka",
        "outputId": "c9d0ec8e-6f2c-4f09-f9eb-45949bad257c"
      },
      "execution_count": 81,
      "outputs": [
        {
          "output_type": "stream",
          "name": "stdout",
          "text": [
            "[]\n",
            "[1]\n"
          ]
        }
      ]
    },
    {
      "cell_type": "code",
      "source": [
        "a=[1,2,3,4,5,6,7,8]\n",
        "print(a[0:8:-2])\n",
        "print(a[0:-1:-2])"
      ],
      "metadata": {
        "colab": {
          "base_uri": "https://localhost:8080/"
        },
        "id": "HFcTXrRsHfCx",
        "outputId": "3748f852-3042-48ce-fcd5-bdccd9596db5"
      },
      "execution_count": 87,
      "outputs": [
        {
          "output_type": "stream",
          "name": "stdout",
          "text": [
            "[]\n",
            "[]\n"
          ]
        }
      ]
    },
    {
      "cell_type": "markdown",
      "source": [
        "list mutable"
      ],
      "metadata": {
        "id": "tmrIaeJOISi7"
      }
    },
    {
      "cell_type": "code",
      "source": [
        "a=[1,2,3,4,5]\n",
        "a[0]=10\n",
        "a"
      ],
      "metadata": {
        "colab": {
          "base_uri": "https://localhost:8080/"
        },
        "id": "7sID-u5CH2Wg",
        "outputId": "51bfd2a6-d7f8-492d-dbb1-6b6900cdfb8a"
      },
      "execution_count": 88,
      "outputs": [
        {
          "output_type": "execute_result",
          "data": {
            "text/plain": [
              "[10, 2, 3, 4, 5]"
            ]
          },
          "metadata": {},
          "execution_count": 88
        }
      ]
    },
    {
      "cell_type": "code",
      "source": [
        "a=[1,2,3,4,5]                                                                    # assign\n",
        "b=a\n",
        "print(a,b) # call by reference\n",
        "a[0]=10\n",
        "print(a,b)  # if a change in original list then the copy also changes\n"
      ],
      "metadata": {
        "colab": {
          "base_uri": "https://localhost:8080/"
        },
        "id": "EaonVZHEIZv_",
        "outputId": "ab154fc2-6f4e-4e99-9bec-cf725c9a5796"
      },
      "execution_count": 91,
      "outputs": [
        {
          "output_type": "stream",
          "name": "stdout",
          "text": [
            "[1, 2, 3, 4, 5] [1, 2, 3, 4, 5]\n",
            "[10, 2, 3, 4, 5] [10, 2, 3, 4, 5]\n"
          ]
        }
      ]
    },
    {
      "cell_type": "code",
      "source": [
        "a=[1,2,3,4,5]\n",
        "b=list(a)    ##### or                                                            #copy\n",
        "#b=a.copy()\n",
        "print(a,b) # call by value\n",
        "a[0]=10\n",
        "print(a,b)  # if a change in original list then the copy also changes"
      ],
      "metadata": {
        "colab": {
          "base_uri": "https://localhost:8080/"
        },
        "id": "3GU4CafaIxG8",
        "outputId": "244691b0-041d-49f9-d7b2-8aa9f399bad3"
      },
      "execution_count": 93,
      "outputs": [
        {
          "output_type": "stream",
          "name": "stdout",
          "text": [
            "[1, 2, 3, 4, 5] [1, 2, 3, 4, 5]\n",
            "[10, 2, 3, 4, 5] [1, 2, 3, 4, 5]\n"
          ]
        }
      ]
    },
    {
      "cell_type": "markdown",
      "source": [
        "TUPLE EXAMPLES"
      ],
      "metadata": {
        "id": "hYDP3b8LKWjb"
      }
    },
    {
      "cell_type": "code",
      "source": [
        "a=(1,2,3)\n",
        "print(a,type(a))"
      ],
      "metadata": {
        "colab": {
          "base_uri": "https://localhost:8080/"
        },
        "id": "ruBD2e9zJYPw",
        "outputId": "5ac71876-2364-4a52-9d28-a4a400b531b8"
      },
      "execution_count": 95,
      "outputs": [
        {
          "output_type": "stream",
          "name": "stdout",
          "text": [
            "(1, 2, 3) <class 'tuple'>\n"
          ]
        }
      ]
    },
    {
      "cell_type": "markdown",
      "source": [
        "immuable tuples"
      ],
      "metadata": {
        "id": "nF0u9x0zKyEC"
      }
    },
    {
      "cell_type": "code",
      "source": [
        "a=(1,2,3,4,5)\n",
        "a[0]=10\n",
        "print(a)"
      ],
      "metadata": {
        "colab": {
          "base_uri": "https://localhost:8080/",
          "height": 210
        },
        "id": "sjYr8pYKKa-w",
        "outputId": "f5479ec2-a6c6-4692-ef12-b2072aa9ad45"
      },
      "execution_count": 96,
      "outputs": [
        {
          "output_type": "error",
          "ename": "TypeError",
          "evalue": "ignored",
          "traceback": [
            "\u001b[0;31m---------------------------------------------------------------------------\u001b[0m",
            "\u001b[0;31mTypeError\u001b[0m                                 Traceback (most recent call last)",
            "\u001b[0;32m<ipython-input-96-7c410c0fa171>\u001b[0m in \u001b[0;36m<cell line: 2>\u001b[0;34m()\u001b[0m\n\u001b[1;32m      1\u001b[0m \u001b[0ma\u001b[0m\u001b[0;34m=\u001b[0m\u001b[0;34m(\u001b[0m\u001b[0;36m1\u001b[0m\u001b[0;34m,\u001b[0m\u001b[0;36m2\u001b[0m\u001b[0;34m,\u001b[0m\u001b[0;36m3\u001b[0m\u001b[0;34m,\u001b[0m\u001b[0;36m4\u001b[0m\u001b[0;34m,\u001b[0m\u001b[0;36m5\u001b[0m\u001b[0;34m)\u001b[0m\u001b[0;34m\u001b[0m\u001b[0;34m\u001b[0m\u001b[0m\n\u001b[0;32m----> 2\u001b[0;31m \u001b[0ma\u001b[0m\u001b[0;34m[\u001b[0m\u001b[0;36m0\u001b[0m\u001b[0;34m]\u001b[0m\u001b[0;34m=\u001b[0m\u001b[0;36m10\u001b[0m\u001b[0;34m\u001b[0m\u001b[0;34m\u001b[0m\u001b[0m\n\u001b[0m\u001b[1;32m      3\u001b[0m \u001b[0mprint\u001b[0m\u001b[0;34m(\u001b[0m\u001b[0ma\u001b[0m\u001b[0;34m)\u001b[0m\u001b[0;34m\u001b[0m\u001b[0;34m\u001b[0m\u001b[0m\n",
            "\u001b[0;31mTypeError\u001b[0m: 'tuple' object does not support item assignment"
          ]
        }
      ]
    },
    {
      "cell_type": "markdown",
      "source": [
        "CONVERT TUPLE TO LIST AND PRINT"
      ],
      "metadata": {
        "id": "Fptu4IL1LA1e"
      }
    },
    {
      "cell_type": "code",
      "source": [
        "a=(1,2,3,4,5)\n",
        "b=list(a)\n",
        "b[0]=10\n",
        "print(a,b)                ### HERE WE CAN CHANGE THE 1ST VALUE AS WE CONVERTED INTO LIST"
      ],
      "metadata": {
        "colab": {
          "base_uri": "https://localhost:8080/"
        },
        "id": "hwGMuhjhKwcD",
        "outputId": "45694f7b-a80c-4be4-83f8-6324c10aff93"
      },
      "execution_count": 97,
      "outputs": [
        {
          "output_type": "stream",
          "name": "stdout",
          "text": [
            "(1, 2, 3, 4, 5) [10, 2, 3, 4, 5]\n"
          ]
        }
      ]
    },
    {
      "cell_type": "code",
      "source": [
        "a=[1,2,3,4,5]\n",
        "b=tuple(a)\n",
        "print(a,b)"
      ],
      "metadata": {
        "colab": {
          "base_uri": "https://localhost:8080/"
        },
        "id": "W3PD7o4oK_Tg",
        "outputId": "6ef86e1b-4e5e-41ce-dfff-ff31b94219c6"
      },
      "execution_count": 98,
      "outputs": [
        {
          "output_type": "stream",
          "name": "stdout",
          "text": [
            "[1, 2, 3, 4, 5] (1, 2, 3, 4, 5)\n"
          ]
        }
      ]
    },
    {
      "cell_type": "code",
      "source": [
        "a=(2,4 , 6,8,10)\n",
        "print(a[0],a[-1])"
      ],
      "metadata": {
        "colab": {
          "base_uri": "https://localhost:8080/"
        },
        "id": "-oTKSNPRLSKB",
        "outputId": "124fce25-8e52-4757-ac3d-a7c39485b102"
      },
      "execution_count": 99,
      "outputs": [
        {
          "output_type": "stream",
          "name": "stdout",
          "text": [
            "2 10\n"
          ]
        }
      ]
    },
    {
      "cell_type": "code",
      "source": [
        "a=(2,4 , 6,8,10)\n",
        "print(a[0::2])"
      ],
      "metadata": {
        "colab": {
          "base_uri": "https://localhost:8080/"
        },
        "id": "yjEYHp2lLoZg",
        "outputId": "3b7a93bb-babf-4e11-9c24-db1ae855bd04"
      },
      "execution_count": 100,
      "outputs": [
        {
          "output_type": "stream",
          "name": "stdout",
          "text": [
            "(2, 6, 10)\n"
          ]
        }
      ]
    },
    {
      "cell_type": "code",
      "source": [
        "a=(1,2,3,4,5,6,7,8,9)\n",
        "print(a[:5:-1])\n",
        "print(a[0:5:-1])                               # as it is reverse starts from 0th index and it tries to go to left side as end is 5th so it wont go to right side it prints empty tuple\n",
        "print(a[9:5:-1])                          # as it is reverse starts from 9th index and it tries to go to left side as end is 5th so it  go to left side it prints 9 8 7\n",
        "print(a[::-1])"
      ],
      "metadata": {
        "colab": {
          "base_uri": "https://localhost:8080/"
        },
        "id": "CYiuiOdkLyzg",
        "outputId": "2264e4ed-fb5d-4a50-db59-f1064fe061e3"
      },
      "execution_count": 107,
      "outputs": [
        {
          "output_type": "stream",
          "name": "stdout",
          "text": [
            "(9, 8, 7)\n",
            "()\n",
            "(9, 8, 7)\n",
            "(9, 8, 7, 6, 5, 4, 3, 2, 1)\n"
          ]
        }
      ]
    },
    {
      "cell_type": "markdown",
      "source": [
        "**LIST**\n",
        "\n",
        "1.   SQUAR BRACKET\n",
        "2.   MUTABLE\n",
        "3. INDEX ACCESIBLE\n",
        "\n",
        "\n"
      ],
      "metadata": {
        "id": "jgWFv3ruO8di"
      }
    },
    {
      "cell_type": "markdown",
      "source": [
        " **tUPLE**\n",
        "\n",
        "1.   PARANTHESIS\n",
        "2.   IMMUTABLE\n",
        "3. INDEX ACCESIBLE\n",
        "\n"
      ],
      "metadata": {
        "id": "6ba936WPPATh"
      }
    },
    {
      "cell_type": "markdown",
      "source": [
        "DICTIONARIES"
      ],
      "metadata": {
        "id": "zItI2pEMPAad"
      }
    },
    {
      "cell_type": "code",
      "source": [
        "# DICTIONARIES\n",
        "#COLLECTION OF ELEMENTS\n",
        "#dict is key value pairs\n",
        "a={'abc':[1,2,3],1:\"hi\"}\n",
        "print(a[1])\n",
        "print(type(a))"
      ],
      "metadata": {
        "colab": {
          "base_uri": "https://localhost:8080/"
        },
        "id": "_gsUwLw_P6Gs",
        "outputId": "70b54e2c-1752-4e77-c217-594e5ced59f1"
      },
      "execution_count": 118,
      "outputs": [
        {
          "output_type": "stream",
          "name": "stdout",
          "text": [
            "hi\n",
            "<class 'dict'>\n"
          ]
        }
      ]
    },
    {
      "cell_type": "markdown",
      "source": [
        "mutable"
      ],
      "metadata": {
        "id": "CFVFYMDjRGWQ"
      }
    },
    {
      "cell_type": "code",
      "source": [
        "a={}\n",
        "a[1]=\"hi\"\n",
        "print(a)"
      ],
      "metadata": {
        "colab": {
          "base_uri": "https://localhost:8080/"
        },
        "id": "R8Kfb4LyQVAp",
        "outputId": "cabcc529-f403-4b21-e342-03272b1484a2"
      },
      "execution_count": 120,
      "outputs": [
        {
          "output_type": "stream",
          "name": "stdout",
          "text": [
            "{1: 'hi'}\n"
          ]
        }
      ]
    },
    {
      "cell_type": "code",
      "source": [
        "a[1]=\"girl\"                 #murttable\n",
        "print(a)"
      ],
      "metadata": {
        "colab": {
          "base_uri": "https://localhost:8080/"
        },
        "id": "yxtPlzoaQVIF",
        "outputId": "8ada36c4-1854-46ef-f233-4177f4f5f80f"
      },
      "execution_count": 121,
      "outputs": [
        {
          "output_type": "stream",
          "name": "stdout",
          "text": [
            "{1: 'girl'}\n"
          ]
        }
      ]
    },
    {
      "cell_type": "code",
      "source": [
        "a={1:'hi'}\n",
        "a['1']='sona'                     # keys are unique         # key can be  string or number\n",
        "print(a)\n",
        "\n",
        "b={\"so\":1}\n",
        "print(b)"
      ],
      "metadata": {
        "colab": {
          "base_uri": "https://localhost:8080/"
        },
        "id": "R8JtY3uHQVLP",
        "outputId": "062912e3-61c2-46f1-9ef6-acd88c67e270"
      },
      "execution_count": 127,
      "outputs": [
        {
          "output_type": "stream",
          "name": "stdout",
          "text": [
            "{1: 'hi', '1': 'sona'}\n",
            "{'so': 1}\n"
          ]
        }
      ]
    },
    {
      "cell_type": "code",
      "source": [
        "a={1:'hi',1:\"hello\"}                        # override\n",
        "print(a)"
      ],
      "metadata": {
        "colab": {
          "base_uri": "https://localhost:8080/"
        },
        "id": "F-WhhNFIQVNy",
        "outputId": "f860f43a-3f77-4eda-eea4-0166054dade4"
      },
      "execution_count": 125,
      "outputs": [
        {
          "output_type": "stream",
          "name": "stdout",
          "text": [
            "{1: 'hello'}\n"
          ]
        }
      ]
    },
    {
      "cell_type": "markdown",
      "source": [
        "SETS\n",
        "\n",
        "\n",
        "1.   UNORDERED COLLECTION\n",
        "\n",
        "\n"
      ],
      "metadata": {
        "id": "BwMYdpUxPAdZ"
      }
    },
    {
      "cell_type": "code",
      "source": [
        "a={ \"hi\",'bi','ni'}\n",
        "print(a,type(a))"
      ],
      "metadata": {
        "colab": {
          "base_uri": "https://localhost:8080/"
        },
        "id": "qZgQ2W-pUXBF",
        "outputId": "543167a4-783d-4ffc-9e6b-1562f1c0c173"
      },
      "execution_count": 128,
      "outputs": [
        {
          "output_type": "stream",
          "name": "stdout",
          "text": [
            "{'bi', 'ni', 'hi'} <class 'set'>\n"
          ]
        }
      ]
    },
    {
      "cell_type": "code",
      "source": [
        "a={ 1,2}\n",
        "a.add(10)\n",
        "print(a)"
      ],
      "metadata": {
        "colab": {
          "base_uri": "https://localhost:8080/"
        },
        "id": "HrHdppwpUXEf",
        "outputId": "6ec18bf4-aa1d-4d76-992f-c866b5e00742"
      },
      "execution_count": 130,
      "outputs": [
        {
          "output_type": "stream",
          "name": "stdout",
          "text": [
            "{1, 2, 10}\n"
          ]
        }
      ]
    },
    {
      "cell_type": "code",
      "source": [
        "a=range(2,10)\n",
        "print(type(a))"
      ],
      "metadata": {
        "colab": {
          "base_uri": "https://localhost:8080/"
        },
        "id": "79tkEjPuUvXK",
        "outputId": "75590601-dc02-415e-f145-63d1a6fd858d"
      },
      "execution_count": 131,
      "outputs": [
        {
          "output_type": "stream",
          "name": "stdout",
          "text": [
            "<class 'range'>\n"
          ]
        }
      ]
    },
    {
      "cell_type": "code",
      "source": [
        "a=range(2,10)                          ### only 2, 10\n",
        "print(a)"
      ],
      "metadata": {
        "colab": {
          "base_uri": "https://localhost:8080/"
        },
        "id": "-pEKXdYAUvbp",
        "outputId": "faf7d8b7-38dc-4c3f-a496-0f3b17bb2203"
      },
      "execution_count": 132,
      "outputs": [
        {
          "output_type": "stream",
          "name": "stdout",
          "text": [
            "range(2, 10)\n"
          ]
        }
      ]
    },
    {
      "cell_type": "code",
      "source": [
        "a='giridhar'\n",
        "print(type(a))"
      ],
      "metadata": {
        "colab": {
          "base_uri": "https://localhost:8080/"
        },
        "id": "AReU1FpmVbxS",
        "outputId": "30b4b1ab-9432-4761-a11b-73ca303ce4fa"
      },
      "execution_count": 133,
      "outputs": [
        {
          "output_type": "stream",
          "name": "stdout",
          "text": [
            "<class 'str'>\n"
          ]
        }
      ]
    },
    {
      "cell_type": "code",
      "source": [
        "b=a.encode('utf-8')\n",
        "print(type(b))                           #encode   byte value ASCII\n",
        "print(a,b)"
      ],
      "metadata": {
        "colab": {
          "base_uri": "https://localhost:8080/"
        },
        "id": "zfNTNrLzVh5S",
        "outputId": "a41132fc-f238-4fe6-d640-31f659905ad6"
      },
      "execution_count": 138,
      "outputs": [
        {
          "output_type": "stream",
          "name": "stdout",
          "text": [
            "<class 'bytes'>\n",
            "giridhar b'giridhar'\n"
          ]
        }
      ]
    },
    {
      "cell_type": "code",
      "source": [
        "a='sonab'\n",
        "b=a.encode('utf-8')                     # ASCIIIIIIII\n",
        "for i in range(0,len(a)):\n",
        "    print(a[i],b[i])"
      ],
      "metadata": {
        "colab": {
          "base_uri": "https://localhost:8080/"
        },
        "id": "8haafEXiVjU_",
        "outputId": "d8547230-6d2c-462e-f792-d3efb4973b5d"
      },
      "execution_count": 145,
      "outputs": [
        {
          "output_type": "stream",
          "name": "stdout",
          "text": [
            "s 115\n",
            "o 111\n",
            "n 110\n",
            "a 97\n",
            "b 98\n"
          ]
        }
      ]
    },
    {
      "cell_type": "code",
      "source": [],
      "metadata": {
        "id": "l71c8jSaVh8I"
      },
      "execution_count": null,
      "outputs": []
    },
    {
      "cell_type": "markdown",
      "source": [],
      "metadata": {
        "id": "ulDKKj1EPAf0"
      }
    },
    {
      "cell_type": "code",
      "source": [],
      "metadata": {
        "id": "Dmocl8gKL8qw"
      },
      "execution_count": null,
      "outputs": []
    }
  ]
}